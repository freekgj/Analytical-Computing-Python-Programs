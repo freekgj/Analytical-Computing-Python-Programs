{
 "cells": [
  {
   "cell_type": "code",
   "execution_count": 1,
   "metadata": {},
   "outputs": [],
   "source": [
    "import numpy"
   ]
  },
  {
   "cell_type": "markdown",
   "metadata": {},
   "source": [
    "De functie hieronder checkt alle variablen en zorgt dat bekende variablen rechts van het = teken komen. En alle onbekende links van het = teken komen te staan. Het volgende geeft hij in dit format terug: <br>\n",
    "index 0 = List met de 3 variablen of de letters nog in de formule worden gedefinieërd. <br>\n",
    "index 1 = variable J, dit variable presenteert de waarde van de uitkomst van het magisch vierkant <br>\n",
    "index 2 = uitkomst van de 3 variablen bij elkaar opgeteld <br>\n",
    "index 3 = uitkomst van de 1e variable in integer<br>\n",
    "index 4 = uitkomst van de 2e variable in integer<br>\n",
    "index 5 = uitkomst van de 3e variable in integer"
   ]
  },
  {
   "cell_type": "code",
   "execution_count": null,
   "metadata": {
    "pycharm": {
     "name": "#%%\n"
    }
   },
   "outputs": [],
   "source": [
    "def check(variable1, variable2, variable3, J):\n",
    "    uitkomst = 0\n",
    "    formule = []\n",
    "    index1 = 0\n",
    "    index2 = 0\n",
    "    index3 = 0\n",
    "    if variable2 == \"geen waarde\":\n",
    "        if type(variable1) == type(int):\n",
    "            uitkomst -= 3 * variable1\n",
    "            index1 = variable1\n",
    "        else:\n",
    "            formule.append(variable1)\n",
    "\n",
    "    else:\n",
    "        if type(variable1) == int:\n",
    "            uitkomst -= variable1\n",
    "            index1 += variable1\n",
    "            formule.append(\"-\")\n",
    "        else:\n",
    "            formule.append(variable1)\n",
    "\n",
    "        if type(variable2) == int:\n",
    "            uitkomst -= variable2\n",
    "            index2 += variable2\n",
    "            formule.append(\"-\")\n",
    "        else:\n",
    "            formule.append(variable2)\n",
    "\n",
    "        if type(variable3) == int:\n",
    "            uitkomst -= variable3\n",
    "            index3 += variable3\n",
    "            formule.append(\"-\")\n",
    "        else:\n",
    "            formule.append(variable3)\n",
    "\n",
    "    return [formule, J, uitkomst, index1, index2, index3]"
   ]
  },
  {
   "cell_type": "markdown",
   "metadata": {},
   "source": [
    "de functie hieronder zorgt ervoor dat de standaard matrix zo word aangepast naar de waarden die volgen uit de functie check."
   ]
  },
  {
   "cell_type": "code",
   "execution_count": null,
   "metadata": {
    "pycharm": {
     "name": "#%%\n"
    }
   },
   "outputs": [],
   "source": [
    "def echelonFillIn(formulex):\n",
    "    totaal = 0\n",
    "    counter = 0\n",
    "    set1 = 0\n",
    "    set2 = 0\n",
    "    set3 = 0\n",
    "\n",
    "    if len(formulex[0]) == 1:\n",
    "        if formulex[0] == '-':\n",
    "            set1 = 0\n",
    "            totaal -= 3 * formulex[-1]\n",
    "        else:\n",
    "            set1 = 3\n",
    "\n",
    "    else:\n",
    "        if formulex[0][0] == '-':\n",
    "            set1 = 0\n",
    "            totaal -= formulex[-3]\n",
    "        else:\n",
    "            set1 = 1\n",
    "\n",
    "        if formulex[0][1] == '-':\n",
    "            set2 = 0\n",
    "            totaal -= formulex[-2]\n",
    "        else:\n",
    "            set2 = 1\n",
    "\n",
    "        if formulex[0][2] == '-':\n",
    "            set3 = 0\n",
    "            totaal -= formulex[-1]\n",
    "        else:\n",
    "            set3 = 1\n",
    "\n",
    "    return [set1, set2, set3, totaal]"
   ]
  },
  {
   "cell_type": "markdown",
   "metadata": {},
   "source": [
    "de functie hieronder zorgt ervoor dat er een variable weg wordt gehaald van de matrix, zodat de matrix vierkant is voor de pseudoinverse.\n"
   ]
  },
  {
   "cell_type": "code",
   "execution_count": null,
   "metadata": {
    "pycharm": {
     "name": "#%%\n"
    }
   },
   "outputs": [],
   "source": [
    "def same(echelon):\n",
    "    deleteColums = []\n",
    "    counter = 0\n",
    "    for item in range(10):\n",
    "        listOfLetter = [echelon[0][counter], echelon[1][counter], echelon[2][counter], echelon[3][counter], \n",
    "                        echelon[4][counter], echelon[5][counter], echelon[6][counter], echelon[7][counter], echelon[8][counter]]\n",
    "        if all(element == 0 for element in listOfLetter):\n",
    "            deleteColums.append(counter)\n",
    "        counter += 1\n",
    "    return deleteColums"
   ]
  },
  {
   "cell_type": "code",
   "execution_count": null,
   "metadata": {
    "pycharm": {
     "name": "#%%\n"
    }
   },
   "outputs": [],
   "source": [
    "matrix = [[5, \"B\", \"C\"],\n",
    "          [\"D\", \"E\", 4],\n",
    "          [\"G\", \"H\", 6]]"
   ]
  },
  {
   "cell_type": "markdown",
   "metadata": {
    "pycharm": {
     "name": "#%% md\n"
    }
   },
   "source": [
    "hieronder wordt iedere plek uit het magisch vierkant toegekend aan ieder een andere variable"
   ]
  },
  {
   "cell_type": "code",
   "execution_count": null,
   "metadata": {
    "pycharm": {
     "name": "#%%\n"
    }
   },
   "outputs": [],
   "source": [
    "A = matrix[0][0]\n",
    "B = matrix[0][1]\n",
    "C = matrix[0][2]\n",
    "D = matrix[1][0]\n",
    "E = matrix[1][1]\n",
    "F = matrix[1][2]\n",
    "G = matrix[2][0]\n",
    "H = matrix[2][1]\n",
    "I = matrix[2][2]\n",
    "J = \"J\""
   ]
  },
  {
   "cell_type": "markdown",
   "metadata": {
    "pycharm": {
     "name": "#%% md\n"
    }
   },
   "source": [
    "hieronder worden de variables die een formule vormen bekeken door een functie check(). Met de uitkomst kan de standaardmatrix worden aangepast.\n"
   ]
  },
  {
   "cell_type": "code",
   "execution_count": null,
   "metadata": {
    "pycharm": {
     "name": "#%%\n"
    }
   },
   "outputs": [],
   "source": [
    "formule1 = check(A, B, C, J)\n",
    "formule2 = check(D, E, F, J)\n",
    "formule3 = check(G, H, I, J)\n",
    "formule4 = check(A, E, I, J)\n",
    "formule5 = check(G, E, C, J)\n",
    "formule6 = check(A, D, G, J)\n",
    "formule7 = check(B, E, H, J)\n",
    "formule8 = check(C, F, I, J)\n",
    "formule9 = check(E, \"geen waarde\", \"geen waarde\", J)"
   ]
  },
  {
   "cell_type": "markdown",
   "metadata": {
    "pycharm": {
     "name": "#%% md\n"
    }
   },
   "source": [
    "Als volgt wordt de standaard vorm van een matrix gedefinieerd samen met het totaal."
   ]
  },
  {
   "cell_type": "code",
   "execution_count": null,
   "metadata": {
    "pycharm": {
     "name": "#%%\n"
    }
   },
   "outputs": [],
   "source": [
    "echelon = [[1, 1, 1, 0, 0, 0, 0, 0, 0, -1],\n",
    "           [0, 0, 0, 1, 1, 1, 0, 0, 0, -1],\n",
    "           [0, 0, 0, 0, 0, 0, 1, 1, 1, -1],\n",
    "           [1, 0, 0, 0, 1, 0, 0, 0, 1, -1],\n",
    "           [0, 0, 1, 0, 1, 0, 1, 0, 0, -1],\n",
    "           [1, 0, 0, 1, 0, 0, 1, 0, 0, -1],\n",
    "           [0, 1, 0, 0, 1, 0, 0, 1, 0, -1],\n",
    "           [0, 0, 1, 0, 0, 1, 0, 0, 1, -1],\n",
    "           [0, 0, 0, 0, 3, 0, 0, 0, 0, -1]]\n",
    "\n",
    "totaal = [0,\n",
    "          0,\n",
    "          0,\n",
    "          0,\n",
    "          0,\n",
    "          0,\n",
    "          0,\n",
    "          0,\n",
    "          0]"
   ]
  },
  {
   "cell_type": "markdown",
   "metadata": {
    "pycharm": {
     "name": "#%% md\n"
    }
   },
   "source": [
    "De matrix en het totaal wordt aangevuld door de bekende variablen die staan gedefinieerd staan bij formule1 t/m formule9."
   ]
  },
  {
   "cell_type": "code",
   "execution_count": null,
   "metadata": {
    "pycharm": {
     "name": "#%%\n"
    }
   },
   "outputs": [],
   "source": [
    "echelon[0][0] = echelonFillIn(formule1)[0]\n",
    "echelon[0][1] = echelonFillIn(formule1)[1]\n",
    "echelon[0][2] = echelonFillIn(formule1)[2]\n",
    "totaal[0] = echelonFillIn(formule1)[3]\n",
    "\n",
    "echelon[1][3] = echelonFillIn(formule2)[0]\n",
    "echelon[1][4] = echelonFillIn(formule2)[1]\n",
    "echelon[1][5] = echelonFillIn(formule2)[2]\n",
    "totaal[1] = echelonFillIn(formule2)[3]\n",
    "\n",
    "echelon[2][6] = echelonFillIn(formule3)[0]\n",
    "echelon[2][7] = echelonFillIn(formule3)[1]\n",
    "echelon[2][8] = echelonFillIn(formule3)[2]\n",
    "totaal[2] = echelonFillIn(formule3)[3]\n",
    "\n",
    "echelon[3][0] = echelonFillIn(formule4)[0]\n",
    "echelon[3][4] = echelonFillIn(formule4)[1]\n",
    "echelon[3][8] = echelonFillIn(formule4)[2]\n",
    "totaal[3] = echelonFillIn(formule4)[3]\n",
    "\n",
    "echelon[4][2] = echelonFillIn(formule5)[0]\n",
    "echelon[4][4] = echelonFillIn(formule5)[1]\n",
    "echelon[4][6] = echelonFillIn(formule5)[2]\n",
    "totaal[4] = echelonFillIn(formule5)[3]\n",
    "\n",
    "echelon[5][0] = echelonFillIn(formule6)[0]\n",
    "echelon[5][3] = echelonFillIn(formule6)[1]\n",
    "echelon[5][6] = echelonFillIn(formule6)[2]\n",
    "totaal[5] = echelonFillIn(formule6)[3]\n",
    "\n",
    "echelon[6][1] = echelonFillIn(formule7)[0]\n",
    "echelon[6][4] = echelonFillIn(formule7)[1]\n",
    "echelon[6][7] = echelonFillIn(formule7)[2]\n",
    "totaal[6] = echelonFillIn(formule7)[3]\n",
    "\n",
    "echelon[7][2] = echelonFillIn(formule8)[0]\n",
    "echelon[7][5] = echelonFillIn(formule8)[1]\n",
    "echelon[7][8] = echelonFillIn(formule8)[2]\n",
    "totaal[7] = echelonFillIn(formule8)[3]\n",
    "\n",
    "echelon[8][4] = echelonFillIn(formule9)[0]\n",
    "totaal[8] = echelonFillIn(formule9)[3]"
   ]
  },
  {
   "cell_type": "markdown",
   "metadata": {
    "pycharm": {
     "name": "#%% md\n"
    }
   },
   "source": [
    "DeleteFormuleIndex bevat de index van welke rij er verwijderd wordt uit de matrix, zodat deze vierkant wordt. Hij gebruikt daarvoor de functie same() "
   ]
  },
  {
   "cell_type": "code",
   "execution_count": null,
   "metadata": {
    "pycharm": {
     "name": "#%%\n"
    }
   },
   "outputs": [],
   "source": [
    "deleteFormuleIndex = same(echelon)"
   ]
  },
  {
   "cell_type": "code",
   "execution_count": null,
   "metadata": {
    "pycharm": {
     "name": "#%%\n"
    }
   },
   "outputs": [],
   "source": [
    "if deleteFormuleIndex != []:\n",
    "    del echelon[0][deleteFormuleIndex[0]], echelon[1][deleteFormuleIndex[0]], echelon[2][deleteFormuleIndex[0]], echelon[3][deleteFormuleIndex[0]], echelon[4][deleteFormuleIndex[0]], echelon[5][\n",
    "        deleteFormuleIndex[0]], echelon[6][deleteFormuleIndex[0]], echelon[7][deleteFormuleIndex[0]], echelon[8][deleteFormuleIndex[0]]"
   ]
  },
  {
   "cell_type": "markdown",
   "metadata": {
    "pycharm": {
     "name": "#%% md\n"
    }
   },
   "source": [
    "de pseudoinverse wordt toegepast."
   ]
  },
  {
   "cell_type": "code",
   "execution_count": 18,
   "metadata": {
    "pycharm": {
     "name": "#%%\n"
    }
   },
   "outputs": [
    {
     "name": "stdout",
     "output_type": "stream",
     "text": [
      "[ 5.00000000e+00  6.50000000e+00  7.00000000e+00  5.50000000e+00\n",
      " -7.22083064e-15  4.50000000e+00  6.00000000e+00  0.00000000e+00\n",
      "  1.65000000e+01]\n"
     ]
    }
   ],
   "source": [
    "nump_echelon = numpy.array(echelon)\n",
    "pseudo_inverse = numpy.linalg.pinv(nump_echelon)\n",
    "\n",
    "uitkomst = numpy.dot(pseudo_inverse, totaal)\n",
    "print(uitkomst)\n"
   ]
  },
  {
   "cell_type": "markdown",
   "metadata": {
    "pycharm": {
     "name": "#%% md\n"
    }
   },
   "source": [
    "Het magisch vierkant wordt leeg geplaatst en vervolgens gevuld met de resultaten van variable A t/m I uit de list uitkomst."
   ]
  },
  {
   "cell_type": "code",
   "execution_count": null,
   "metadata": {
    "pycharm": {
     "name": "#%%\n"
    }
   },
   "outputs": [],
   "source": [
    "showMagicSquare = [[0,0,0],[0,0,0],[0,0,0]]"
   ]
  },
  {
   "cell_type": "code",
   "execution_count": null,
   "metadata": {
    "pycharm": {
     "name": "#%%\n"
    }
   },
   "outputs": [],
   "source": [
    "row = 0\n",
    "colum = 0\n",
    "uitkomstCounter = 0\n",
    "for rows in showMagicSquare:\n",
    "    for colums in showMagicSquare[0]:\n",
    "        checker = row*3 + colum\n",
    "        if checker != deleteFormuleIndex[0]:\n",
    "            if uitkomstCounter != 8:\n",
    "                showMagicSquare[row][colum] = uitkomst[uitkomstCounter]\n",
    "                colum+=1\n",
    "                uitkomstCounter += 1\n",
    "            else:\n",
    "                showMagicSquare[row][colum] = uitkomst[8]\n",
    "                colum+=1\n",
    "                uitkomstCounter += 1\n",
    "        else:\n",
    "            if row != 3:\n",
    "                showMagicSquare[row][colum] = matrix[row][colum]\n",
    "                colum += 1\n",
    "    colum = 0\n",
    "    row += 1"
   ]
  },
  {
   "cell_type": "markdown",
   "metadata": {
    "pycharm": {
     "name": "#%% md\n"
    }
   },
   "source": [
    "Er wordt een plek aangemaakt voor de uitkomst van het magisch vierkant."
   ]
  },
  {
   "cell_type": "code",
   "execution_count": null,
   "metadata": {
    "pycharm": {
     "name": "#%%\n"
    }
   },
   "outputs": [],
   "source": [
    "showMagicSquare[0].append(0)\n",
    "showMagicSquare[1].append(0)\n",
    "showMagicSquare[2].append(0)\n",
    "showMagicSquare.append([])"
   ]
  },
  {
   "cell_type": "markdown",
   "metadata": {
    "pycharm": {
     "name": "#%% md\n"
    }
   },
   "source": [
    "De uitkomsten van het magisch vierkant worden toegevoegd."
   ]
  },
  {
   "cell_type": "code",
   "execution_count": null,
   "metadata": {
    "pycharm": {
     "name": "#%%\n"
    }
   },
   "outputs": [],
   "source": [
    "if deleteFormuleIndex != 8:\n",
    "    showMagicSquare[0][3] = uitkomst[8]\n",
    "    showMagicSquare[1][3] = uitkomst[8]\n",
    "    showMagicSquare[2][3] = uitkomst[8]\n",
    "    showMagicSquare[3] = [uitkomst[8], uitkomst[8], uitkomst[8], round(uitkomst[8])]\n",
    "else:\n",
    "    showMagicSquare[0][3] = J\n",
    "    showMagicSquare[1][3] = J\n",
    "    showMagicSquare[2][3] = J\n",
    "    showMagicSquare[3] = [J, J, J, J]"
   ]
  },
  {
   "cell_type": "markdown",
   "metadata": {
    "pycharm": {
     "name": "#%% md\n"
    }
   },
   "source": [
    "het printen van de Magic Square"
   ]
  },
  {
   "cell_type": "code",
   "execution_count": null,
   "metadata": {
    "pycharm": {
     "name": "#%%\n"
    }
   },
   "outputs": [],
   "source": [
    "print(numpy.array(showMagicSquare))\n"
   ]
  }
 ],
 "metadata": {
  "kernelspec": {
   "display_name": "Python 3",
   "language": "python",
   "name": "python3"
  },
  "language_info": {
   "codemirror_mode": {
    "name": "ipython",
    "version": 3
   },
   "file_extension": ".py",
   "mimetype": "text/x-python",
   "name": "python",
   "nbconvert_exporter": "python",
   "pygments_lexer": "ipython3",
   "version": "3.7.1"
  },
  "pycharm": {
   "stem_cell": {
    "cell_type": "raw",
    "metadata": {
     "collapsed": false
    },
    "source": []
   }
  }
 },
 "nbformat": 4,
 "nbformat_minor": 1
}
